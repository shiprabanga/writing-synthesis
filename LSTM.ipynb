{
 "cells": [
  {
   "cell_type": "code",
   "execution_count": 7,
   "metadata": {},
   "outputs": [],
   "source": [
    "import numpy as np\n",
    "import numpy.matlib\n",
    "import matplotlib.pyplot as plt\n",
    "import matplotlib.cm as cm\n",
    "%matplotlib inline\n",
    "\n",
    "import math\n",
    "import random\n",
    "import time\n",
    "import os\n",
    "\n",
    "import tensorflow as tf"
   ]
  },
  {
   "cell_type": "code",
   "execution_count": 8,
   "metadata": {},
   "outputs": [],
   "source": [
    "class Model():\n",
    "    \n",
    "    def __init__(self, args):\n",
    "        self.args = args\n",
    "        self.graves_initializer = tf.truncated_normal_initializer(mean=0., stddev=.075, seed=None, dtype=tf.float32)\n",
    "        self.window_b_initializer = tf.truncated_normal_initializer(mean=-3.0, stddev=.25, seed=None, dtype=tf.float32)\n",
    "        \n",
    "        # Build an LSTM cell, each cell has rnn_size number of units\n",
    "        cell_func = tf.contrib.rnn.LSTMCell\n",
    "        self.cell0 = cell_func(args.rnn_size, state_is_tuple=True, initializer=model.graves_initializer)\n",
    "        self.cell1 = cell_func(args.rnn_size, state_is_tuple=True, initializer=model.graves_initializer)\n",
    "        self.cell2 = cell_func(args.rnn_size, state_is_tuple=True, initializer=model.graves_initializer)\n",
    "        \n",
    "        # Placeholders for input and output data, each entry has tsteps points at a time\n",
    "        self.input = tf.placeholder(dtype=tf.float32, shape=[None, self.tsteps, 3])\n",
    "        self.output = tf.placeholder(dtype=tf.float32, shape=[None, self.tsteps, 3])\n",
    "        \n",
    "        # Setting the states of memory cells in each LSTM cell.\n",
    "        # batch_size is the number of training examples in a batch. Each training example is a set of tsteps number of\n",
    "        # (x,y, <end_of_stroke>) tuples, i.e. a sequence of strokes till t time steps.\n",
    "        self.istate_cell0 = self.cell0.zero_state(batch_size=self.batch_size, dtype=tf.float32)\n",
    "        self.istate_cell1 = self.cell1.zero_state(batch_size=self.batch_size, dtype=tf.float32)\n",
    "        self.istate_cell2 = self.cell2.zero_state(batch_size=self.batch_size, dtype=tf.float32)\n",
    "\n",
    "\n",
    "    def init_args():\n",
    "    #     args.train = False\n",
    "        args.rnn_size = 100 \n",
    "        args.tsteps = 256 if args.train else 1\n",
    "        args.batch_size = 32 if args.train else 1\n",
    "        args.nmixtures = 8 # number of Gaussian mixtures in MDN\n",
    "        args.alphabet = ' abcdefghijklmnopqrstuvwxyzABCDEFGHIJKLMNOPQRSTUVWXYZ'\n",
    "        args.tsteps_per_ascii = 25\n",
    "        return args\n",
    "    \n",
    "    def build_computational_graph(inputs, cell, initial_cell_state):\n",
    "        # TODO():update scope\n",
    "        output, cell_final_state = tf.contrib.legacy_seq2seq.rnn_decoder(inputs, initial_cell_state, cell, loop_function=None, scope=\"cell0\")\n",
    "\n",
    "    "
   ]
  },
  {
   "cell_type": "code",
   "execution_count": null,
   "metadata": {},
   "outputs": [],
   "source": []
  }
 ],
 "metadata": {
  "kernelspec": {
   "display_name": "Python 3",
   "language": "python",
   "name": "python3"
  },
  "language_info": {
   "codemirror_mode": {
    "name": "ipython",
    "version": 3
   },
   "file_extension": ".py",
   "mimetype": "text/x-python",
   "name": "python",
   "nbconvert_exporter": "python",
   "pygments_lexer": "ipython3",
   "version": "3.7.1"
  }
 },
 "nbformat": 4,
 "nbformat_minor": 2
}
