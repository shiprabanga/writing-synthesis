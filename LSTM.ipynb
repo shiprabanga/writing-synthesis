{
 "cells": [
  {
   "cell_type": "code",
   "execution_count": null,
   "metadata": {},
   "outputs": [],
   "source": [
    "import numpy as np\n",
    "import numpy.matlib\n",
    "import matplotlib.pyplot as plt\n",
    "import matplotlib.cm as cm\n",
    "%matplotlib inline\n",
    "\n",
    "import math\n",
    "import random\n",
    "import time\n",
    "import os\n",
    "\n",
    "import tensorflow as tf"
   ]
  },
  {
   "cell_type": "code",
   "execution_count": null,
   "metadata": {},
   "outputs": [],
   "source": [
    "class Model():\n",
    "    \n",
    "    def __init__(self, args):\n",
    "        self.args = args\n",
    "        self.graves_initializer = tf.truncated_normal_initializer(mean=0., stddev=.075, seed=None, dtype=tf.float32)\n",
    "        self.window_b_initializer = tf.truncated_normal_initializer(mean=-3.0, stddev=.25, seed=None, dtype=tf.float32)\n",
    "        self.learning_rate = 0.001\n",
    "        self.optimizer = tf.train.AdamOptimizer(learning_rate=self.learning_rate)\n",
    "        \n",
    "        # Build an LSTM cell, each cell has rnn_size number of units\n",
    "        cell_func = tf.contrib.rnn.LSTMCell\n",
    "        print(self.args)\n",
    "        self.cell0 = cell_func(self.args['rnn_size'], state_is_tuple=True, initializer=self.graves_initializer)\n",
    "        self.cell1 = cell_func(self.args['rnn_size'], state_is_tuple=True, initializer=self.graves_initializer)\n",
    "        self.cell2 = cell_func(self.args['rnn_size'], state_is_tuple=True, initializer=self.graves_initializer)\n",
    "        \n",
    "        # Placeholders for input and output data, each entry has tsteps points at a time\n",
    "        self.input = tf.placeholder(dtype=tf.float32, shape=[None, args['tsteps'], 3])\n",
    "        self.output = tf.placeholder(dtype=tf.float32, shape=[None, args['tsteps'], 3])\n",
    "        \n",
    "        # Setting the states of memory cells in each LSTM cell.\n",
    "        # batch_size is the number of training examples in a batch. Each training example is a set of tsteps number of\n",
    "        # (x,y, <end_of_stroke>) tuples, i.e. a sequence of strokes till t time steps.\n",
    "        self.istate_cell0 = self.cell0.zero_state(batch_size=args['batch_size'], dtype=tf.float32)\n",
    "        self.istate_cell1 = self.cell1.zero_state(batch_size=args['batch_size'], dtype=tf.float32)\n",
    "        self.istate_cell2 = self.cell2.zero_state(batch_size=args['batch_size'], dtype=tf.float32)\n",
    "\n",
    "\n",
    "    def init_args():\n",
    "        args = {}\n",
    "        args['rnn_size'] = 100 \n",
    "        args['tsteps'] = 256 \n",
    "        args['batch_size'] = 32 \n",
    "        args['nmixtures'] = 8 \n",
    "        args['alphabet'] = ' abcdefghijklmnopqrstuvwxyzABCDEFGHIJKLMNOPQRSTUVWXYZ'\n",
    "        args['tsteps_per_ascii'] = 25\n",
    "        args['epochs'] = 100\n",
    "        return args\n",
    "    \n",
    "    def build_computational_graph(self, inputs, cell, initial_cell_state, scope):\n",
    "        # TODO():update scope\n",
    "        # inputs = [tf.squeeze(input_, [1]) for input_ in tf.split(inputs, self.args['tsteps'], 1)]\n",
    "        output, cell_final_state = tf.contrib.legacy_seq2seq.rnn_decoder(inputs, initial_cell_state, cell, loop_function=None, scope=scope)\n",
    "        return output\n",
    "\n",
    "    "
   ]
  },
  {
   "cell_type": "code",
   "execution_count": null,
   "metadata": {},
   "outputs": [],
   "source": []
  },
  {
   "cell_type": "code",
   "execution_count": null,
   "metadata": {},
   "outputs": [],
   "source": []
  },
  {
   "cell_type": "code",
   "execution_count": null,
   "metadata": {},
   "outputs": [],
   "source": [
    "m = Model({'rnn_size':400, 'tsteps': 4, 'batch_size' : 5})"
   ]
  },
  {
   "cell_type": "code",
   "execution_count": null,
   "metadata": {},
   "outputs": [],
   "source": []
  }
 ],
 "metadata": {
  "kernelspec": {
   "display_name": "Python 3",
   "language": "python",
   "name": "python3"
  },
  "language_info": {
   "codemirror_mode": {
    "name": "ipython",
    "version": 3
   },
   "file_extension": ".py",
   "mimetype": "text/x-python",
   "name": "python",
   "nbconvert_exporter": "python",
   "pygments_lexer": "ipython3",
   "version": "3.7.1"
  }
 },
 "nbformat": 4,
 "nbformat_minor": 2
}
