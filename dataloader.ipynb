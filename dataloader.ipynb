{
 "cells": [
  {
   "cell_type": "code",
   "execution_count": 10,
   "metadata": {},
   "outputs": [],
   "source": [
    "# Package imports\n",
    "import os\n",
    "import numpy as np\n",
    "import matplotlib.pyplot as plt\n",
    "import xml.etree.ElementTree as ET\n",
    "import random"
   ]
  },
  {
   "cell_type": "code",
   "execution_count": 47,
   "metadata": {},
   "outputs": [],
   "source": [
    "class DataProcess():\n",
    "    def __init__(self):\n",
    "        self.rootDir = \"./data\"\n",
    "        self.batch_pointer = 0\n",
    "        self.batch_size = 2\n",
    "        \n",
    "        stroke_dir = self.rootDir\n",
    "        data_file = os.path.join(self.rootDir, \"strokes_training_data.cpkl\")\n",
    "        self.process(stroke_dir, data_file)\n",
    "\n",
    "        \n",
    "    def process(self, rootDir, data_file):\n",
    "        # Function that outputs linestrokes given filepath.    \n",
    "        def convert_linestroke_file_to_array(filepath):\n",
    "            print(filepath)\n",
    "            strokeFile = ET.parse(filepath)\n",
    "            root = strokeFile.getroot()\n",
    "            x_min_offset = -1000000\n",
    "            y_min_offset = -1000000\n",
    "            y_height = 0\n",
    "            for i in range(1,4):\n",
    "                x_min_offset = min(x_min_offset, float(root[0][i].attrib['x']))\n",
    "                y_min_offset = min(y_min_offset, float(root[0][i].attrib['y']))\n",
    "                y_height = max(y_height, float(root[0][i].attrib['y']))\n",
    "            #TODO(add normalization)\n",
    "            y_height -= y_min_offset\n",
    "            x_min_offset -=100\n",
    "            y_min_offset -=100\n",
    "            strokeSet = root[1]\n",
    "            allStrokes = []\n",
    "            for i in range(len(strokeSet)):\n",
    "                points = []\n",
    "                for point in strokeSet[i]:\n",
    "                    points.append([(float(point.attrib['x']) - x_min_offset), (float(point.attrib['y']) - y_min_offset)])\n",
    "                allStrokes.append(points)\n",
    "                print(allStrokes[1])\n",
    "    \n",
    "        def get_all_files():\n",
    "            rootDir = \"./data\"\n",
    "            filePaths = []\n",
    "            for dirpath, dirnames, filenames in os.walk(rootDir):\n",
    "                for file in filenames:\n",
    "                    filePaths.append(os.path.join(dirpath, file))\n",
    "            return filePaths\n",
    "\n",
    "    #for file in get_all_files(rootdir):\n",
    "     #   convert_linestroke_file_to_array(file)\n",
    "        \n",
    "    # Function to convert strokes to inputStrokeMatrix\n",
    "        def strokesToInputMatrix(self, strokes):\n",
    "            strokeMatrix = []\n",
    "            prev_x = 0\n",
    "            prev_y = 0\n",
    "            for stroke in strokes:\n",
    "                for num_point in range(len(stroke)):\n",
    "                    x = stroke[num_point][0] - prev_x\n",
    "                    y = stroke[num_point][1] - prev_y\n",
    "                    prev_x = stroke[num_point][0]\n",
    "                    prev_y = stroke[num_point][1]\n",
    "                    z = 0\n",
    "                    if (num_point == len(stroke)-1):\n",
    "                        z = 1\n",
    "                    example = [x,y,z]\n",
    "                    strokeMatrix.append(example)\n",
    "            return strokeMatrix\n",
    "        \n",
    "        allFiles = get_all_files()\n",
    "        strokes = []\n",
    "        for file in allFiles:\n",
    "            if file[-3:] == \"xml\":\n",
    "                stroke = strokesToInputMatrix(convert_linestroke_file_to_array(file))\n",
    "                strokes.append(stroke)\n",
    "        f = open(data_file,\"wb\")\n",
    "        pickle.dump([strokes], f, protocol=2)\n",
    "        f.close()\n",
    "        print(\"Saved {} lines\", len(strokes))\n",
    "                "
   ]
  },
  {
   "cell_type": "code",
   "execution_count": 48,
   "metadata": {},
   "outputs": [
    {
     "ename": "FileNotFoundError",
     "evalue": "[Errno 2] No such file or directory: './data/strokes_training_data.cpkl'",
     "output_type": "error",
     "traceback": [
      "\u001b[0;31m---------------------------------------------------------------------------\u001b[0m",
      "\u001b[0;31mFileNotFoundError\u001b[0m                         Traceback (most recent call last)",
      "\u001b[0;32m<ipython-input-48-53a443cd8513>\u001b[0m in \u001b[0;36m<module>\u001b[0;34m\u001b[0m\n\u001b[0;32m----> 1\u001b[0;31m \u001b[0md\u001b[0m \u001b[0;34m=\u001b[0m \u001b[0mDataProcess\u001b[0m\u001b[0;34m(\u001b[0m\u001b[0;34m)\u001b[0m\u001b[0;34m\u001b[0m\u001b[0;34m\u001b[0m\u001b[0m\n\u001b[0m\u001b[1;32m      2\u001b[0m \u001b[0mstroke\u001b[0m \u001b[0;34m=\u001b[0m \u001b[0;34m[\u001b[0m\u001b[0;34m[\u001b[0m\u001b[0;36m1\u001b[0m\u001b[0;34m,\u001b[0m\u001b[0;36m2\u001b[0m\u001b[0;34m]\u001b[0m\u001b[0;34m,\u001b[0m\u001b[0;34m[\u001b[0m\u001b[0;36m3\u001b[0m\u001b[0;34m,\u001b[0m\u001b[0;36m4\u001b[0m\u001b[0;34m]\u001b[0m\u001b[0;34m,\u001b[0m\u001b[0;34m[\u001b[0m\u001b[0;36m5\u001b[0m\u001b[0;34m,\u001b[0m\u001b[0;36m6\u001b[0m\u001b[0;34m]\u001b[0m\u001b[0;34m]\u001b[0m\u001b[0;34m\u001b[0m\u001b[0;34m\u001b[0m\u001b[0m\n\u001b[1;32m      3\u001b[0m \u001b[0mstrokes\u001b[0m \u001b[0;34m=\u001b[0m \u001b[0;34m[\u001b[0m\u001b[0;34m]\u001b[0m\u001b[0;34m\u001b[0m\u001b[0;34m\u001b[0m\u001b[0m\n\u001b[1;32m      4\u001b[0m \u001b[0mstrokes\u001b[0m\u001b[0;34m.\u001b[0m\u001b[0mappend\u001b[0m\u001b[0;34m(\u001b[0m\u001b[0mstroke\u001b[0m\u001b[0;34m)\u001b[0m\u001b[0;34m\u001b[0m\u001b[0;34m\u001b[0m\u001b[0m\n\u001b[1;32m      5\u001b[0m \u001b[0md\u001b[0m\u001b[0;34m.\u001b[0m\u001b[0mstrokesToInputMatrix\u001b[0m\u001b[0;34m(\u001b[0m\u001b[0mstrokes\u001b[0m\u001b[0;34m)\u001b[0m\u001b[0;34m\u001b[0m\u001b[0;34m\u001b[0m\u001b[0m\n",
      "\u001b[0;32m<ipython-input-47-0b58358cacfa>\u001b[0m in \u001b[0;36m__init__\u001b[0;34m(self)\u001b[0m\n\u001b[1;32m      7\u001b[0m         \u001b[0mstroke_dir\u001b[0m \u001b[0;34m=\u001b[0m \u001b[0mself\u001b[0m\u001b[0;34m.\u001b[0m\u001b[0mrootDir\u001b[0m\u001b[0;34m\u001b[0m\u001b[0;34m\u001b[0m\u001b[0m\n\u001b[1;32m      8\u001b[0m         \u001b[0mdata_file\u001b[0m \u001b[0;34m=\u001b[0m \u001b[0mos\u001b[0m\u001b[0;34m.\u001b[0m\u001b[0mpath\u001b[0m\u001b[0;34m.\u001b[0m\u001b[0mjoin\u001b[0m\u001b[0;34m(\u001b[0m\u001b[0mself\u001b[0m\u001b[0;34m.\u001b[0m\u001b[0mrootDir\u001b[0m\u001b[0;34m,\u001b[0m \u001b[0;34m\"strokes_training_data.cpkl\"\u001b[0m\u001b[0;34m)\u001b[0m\u001b[0;34m\u001b[0m\u001b[0;34m\u001b[0m\u001b[0m\n\u001b[0;32m----> 9\u001b[0;31m         \u001b[0mself\u001b[0m\u001b[0;34m.\u001b[0m\u001b[0mprocess\u001b[0m\u001b[0;34m(\u001b[0m\u001b[0mstroke_dir\u001b[0m\u001b[0;34m,\u001b[0m \u001b[0mdata_file\u001b[0m\u001b[0;34m)\u001b[0m\u001b[0;34m\u001b[0m\u001b[0;34m\u001b[0m\u001b[0m\n\u001b[0m\u001b[1;32m     10\u001b[0m \u001b[0;34m\u001b[0m\u001b[0m\n\u001b[1;32m     11\u001b[0m \u001b[0;34m\u001b[0m\u001b[0m\n",
      "\u001b[0;32m<ipython-input-47-0b58358cacfa>\u001b[0m in \u001b[0;36mprocess\u001b[0;34m(self, rootDir, data_file)\u001b[0m\n\u001b[1;32m     71\u001b[0m                 \u001b[0mstroke\u001b[0m \u001b[0;34m=\u001b[0m \u001b[0mstrokesToInputMatrix\u001b[0m\u001b[0;34m(\u001b[0m\u001b[0mconvert_linestroke_file_to_array\u001b[0m\u001b[0;34m(\u001b[0m\u001b[0mfile\u001b[0m\u001b[0;34m)\u001b[0m\u001b[0;34m)\u001b[0m\u001b[0;34m\u001b[0m\u001b[0;34m\u001b[0m\u001b[0m\n\u001b[1;32m     72\u001b[0m                 \u001b[0mstrokes\u001b[0m\u001b[0;34m.\u001b[0m\u001b[0mappend\u001b[0m\u001b[0;34m(\u001b[0m\u001b[0mstroke\u001b[0m\u001b[0;34m)\u001b[0m\u001b[0;34m\u001b[0m\u001b[0;34m\u001b[0m\u001b[0m\n\u001b[0;32m---> 73\u001b[0;31m         \u001b[0mf\u001b[0m \u001b[0;34m=\u001b[0m \u001b[0mopen\u001b[0m\u001b[0;34m(\u001b[0m\u001b[0mdata_file\u001b[0m\u001b[0;34m,\u001b[0m\u001b[0;34m\"wb\"\u001b[0m\u001b[0;34m)\u001b[0m\u001b[0;34m\u001b[0m\u001b[0;34m\u001b[0m\u001b[0m\n\u001b[0m\u001b[1;32m     74\u001b[0m         \u001b[0mpickle\u001b[0m\u001b[0;34m.\u001b[0m\u001b[0mdump\u001b[0m\u001b[0;34m(\u001b[0m\u001b[0;34m[\u001b[0m\u001b[0mstrokes\u001b[0m\u001b[0;34m]\u001b[0m\u001b[0;34m,\u001b[0m \u001b[0mf\u001b[0m\u001b[0;34m,\u001b[0m \u001b[0mprotocol\u001b[0m\u001b[0;34m=\u001b[0m\u001b[0;36m2\u001b[0m\u001b[0;34m)\u001b[0m\u001b[0;34m\u001b[0m\u001b[0;34m\u001b[0m\u001b[0m\n\u001b[1;32m     75\u001b[0m         \u001b[0mf\u001b[0m\u001b[0;34m.\u001b[0m\u001b[0mclose\u001b[0m\u001b[0;34m(\u001b[0m\u001b[0;34m)\u001b[0m\u001b[0;34m\u001b[0m\u001b[0;34m\u001b[0m\u001b[0m\n",
      "\u001b[0;31mFileNotFoundError\u001b[0m: [Errno 2] No such file or directory: './data/strokes_training_data.cpkl'"
     ]
    }
   ],
   "source": [
    "d = DataProcess()\n",
    "stroke = [[1,2],[3,4],[5,6]]\n",
    "strokes = []\n",
    "strokes.append(stroke)\n",
    "d.strokesToInputMatrix(strokes)"
   ]
  },
  {
   "cell_type": "code",
   "execution_count": null,
   "metadata": {},
   "outputs": [],
   "source": []
  }
 ],
 "metadata": {
  "kernelspec": {
   "display_name": "Python 3",
   "language": "python",
   "name": "python3"
  },
  "language_info": {
   "codemirror_mode": {
    "name": "ipython",
    "version": 3
   },
   "file_extension": ".py",
   "mimetype": "text/x-python",
   "name": "python",
   "nbconvert_exporter": "python",
   "pygments_lexer": "ipython3",
   "version": "3.6.7"
  }
 },
 "nbformat": 4,
 "nbformat_minor": 2
}
